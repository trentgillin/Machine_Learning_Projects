{
 "cells": [
  {
   "cell_type": "markdown",
   "id": "eccff070",
   "metadata": {},
   "source": [
    "## Setting up\n",
    "This is a notebook where I am going to try and predict if a marvel character is good/bad based on physical attributes such as eyes, hair color, etc"
   ]
  },
  {
   "cell_type": "code",
   "execution_count": 1,
   "id": "65ae62cf",
   "metadata": {},
   "outputs": [],
   "source": [
    "# modules\n",
    "import pandas as pd\n",
    "import matplotlib.pyplot as plt\n",
    "\n",
    "# data\n",
    "marvel = pd.read_csv(\"./marvel-wikia-data.csv\")"
   ]
  },
  {
   "cell_type": "markdown",
   "id": "133f3ffd",
   "metadata": {},
   "source": [
    "## Explore Data"
   ]
  },
  {
   "cell_type": "code",
   "execution_count": 3,
   "id": "3328d521",
   "metadata": {},
   "outputs": [
    {
     "data": {
      "text/html": [
       "<div>\n",
       "<style scoped>\n",
       "    .dataframe tbody tr th:only-of-type {\n",
       "        vertical-align: middle;\n",
       "    }\n",
       "\n",
       "    .dataframe tbody tr th {\n",
       "        vertical-align: top;\n",
       "    }\n",
       "\n",
       "    .dataframe thead th {\n",
       "        text-align: right;\n",
       "    }\n",
       "</style>\n",
       "<table border=\"1\" class=\"dataframe\">\n",
       "  <thead>\n",
       "    <tr style=\"text-align: right;\">\n",
       "      <th></th>\n",
       "      <th>page_id</th>\n",
       "      <th>name</th>\n",
       "      <th>urlslug</th>\n",
       "      <th>ID</th>\n",
       "      <th>ALIGN</th>\n",
       "      <th>EYE</th>\n",
       "      <th>HAIR</th>\n",
       "      <th>SEX</th>\n",
       "      <th>GSM</th>\n",
       "      <th>ALIVE</th>\n",
       "      <th>APPEARANCES</th>\n",
       "      <th>FIRST APPEARANCE</th>\n",
       "      <th>Year</th>\n",
       "    </tr>\n",
       "  </thead>\n",
       "  <tbody>\n",
       "    <tr>\n",
       "      <th>16371</th>\n",
       "      <td>657508</td>\n",
       "      <td>Ru'ach (Earth-616)</td>\n",
       "      <td>\\/Ru%27ach_(Earth-616)</td>\n",
       "      <td>No Dual Identity</td>\n",
       "      <td>Bad Characters</td>\n",
       "      <td>Green Eyes</td>\n",
       "      <td>No Hair</td>\n",
       "      <td>Male Characters</td>\n",
       "      <td>NaN</td>\n",
       "      <td>Living Characters</td>\n",
       "      <td>NaN</td>\n",
       "      <td>NaN</td>\n",
       "      <td>NaN</td>\n",
       "    </tr>\n",
       "    <tr>\n",
       "      <th>16372</th>\n",
       "      <td>665474</td>\n",
       "      <td>Thane (Thanos' son) (Earth-616)</td>\n",
       "      <td>\\/Thane_(Thanos%27_son)_(Earth-616)</td>\n",
       "      <td>No Dual Identity</td>\n",
       "      <td>Good Characters</td>\n",
       "      <td>Blue Eyes</td>\n",
       "      <td>Bald</td>\n",
       "      <td>Male Characters</td>\n",
       "      <td>NaN</td>\n",
       "      <td>Living Characters</td>\n",
       "      <td>NaN</td>\n",
       "      <td>NaN</td>\n",
       "      <td>NaN</td>\n",
       "    </tr>\n",
       "    <tr>\n",
       "      <th>16373</th>\n",
       "      <td>695217</td>\n",
       "      <td>Tinkerer (Skrull) (Earth-616)</td>\n",
       "      <td>\\/Tinkerer_(Skrull)_(Earth-616)</td>\n",
       "      <td>Secret Identity</td>\n",
       "      <td>Bad Characters</td>\n",
       "      <td>Black Eyes</td>\n",
       "      <td>Bald</td>\n",
       "      <td>Male Characters</td>\n",
       "      <td>NaN</td>\n",
       "      <td>Living Characters</td>\n",
       "      <td>NaN</td>\n",
       "      <td>NaN</td>\n",
       "      <td>NaN</td>\n",
       "    </tr>\n",
       "    <tr>\n",
       "      <th>16374</th>\n",
       "      <td>708811</td>\n",
       "      <td>TK421 (Spiderling) (Earth-616)</td>\n",
       "      <td>\\/TK421_(Spiderling)_(Earth-616)</td>\n",
       "      <td>Secret Identity</td>\n",
       "      <td>Neutral Characters</td>\n",
       "      <td>NaN</td>\n",
       "      <td>NaN</td>\n",
       "      <td>Male Characters</td>\n",
       "      <td>NaN</td>\n",
       "      <td>Living Characters</td>\n",
       "      <td>NaN</td>\n",
       "      <td>NaN</td>\n",
       "      <td>NaN</td>\n",
       "    </tr>\n",
       "    <tr>\n",
       "      <th>16375</th>\n",
       "      <td>673702</td>\n",
       "      <td>Yologarch (Earth-616)</td>\n",
       "      <td>\\/Yologarch_(Earth-616)</td>\n",
       "      <td>NaN</td>\n",
       "      <td>Bad Characters</td>\n",
       "      <td>NaN</td>\n",
       "      <td>NaN</td>\n",
       "      <td>NaN</td>\n",
       "      <td>NaN</td>\n",
       "      <td>Living Characters</td>\n",
       "      <td>NaN</td>\n",
       "      <td>NaN</td>\n",
       "      <td>NaN</td>\n",
       "    </tr>\n",
       "  </tbody>\n",
       "</table>\n",
       "</div>"
      ],
      "text/plain": [
       "       page_id                             name  \\\n",
       "16371   657508               Ru'ach (Earth-616)   \n",
       "16372   665474  Thane (Thanos' son) (Earth-616)   \n",
       "16373   695217    Tinkerer (Skrull) (Earth-616)   \n",
       "16374   708811   TK421 (Spiderling) (Earth-616)   \n",
       "16375   673702            Yologarch (Earth-616)   \n",
       "\n",
       "                                   urlslug                ID  \\\n",
       "16371               \\/Ru%27ach_(Earth-616)  No Dual Identity   \n",
       "16372  \\/Thane_(Thanos%27_son)_(Earth-616)  No Dual Identity   \n",
       "16373      \\/Tinkerer_(Skrull)_(Earth-616)   Secret Identity   \n",
       "16374     \\/TK421_(Spiderling)_(Earth-616)   Secret Identity   \n",
       "16375              \\/Yologarch_(Earth-616)               NaN   \n",
       "\n",
       "                    ALIGN         EYE     HAIR              SEX  GSM  \\\n",
       "16371      Bad Characters  Green Eyes  No Hair  Male Characters  NaN   \n",
       "16372     Good Characters   Blue Eyes     Bald  Male Characters  NaN   \n",
       "16373      Bad Characters  Black Eyes     Bald  Male Characters  NaN   \n",
       "16374  Neutral Characters         NaN      NaN  Male Characters  NaN   \n",
       "16375      Bad Characters         NaN      NaN              NaN  NaN   \n",
       "\n",
       "                   ALIVE  APPEARANCES FIRST APPEARANCE  Year  \n",
       "16371  Living Characters          NaN              NaN   NaN  \n",
       "16372  Living Characters          NaN              NaN   NaN  \n",
       "16373  Living Characters          NaN              NaN   NaN  \n",
       "16374  Living Characters          NaN              NaN   NaN  \n",
       "16375  Living Characters          NaN              NaN   NaN  "
      ]
     },
     "execution_count": 3,
     "metadata": {},
     "output_type": "execute_result"
    }
   ],
   "source": [
    "# explore data\n",
    "marvel.head()"
   ]
  },
  {
   "cell_type": "code",
   "execution_count": 2,
   "id": "e7434221",
   "metadata": {},
   "outputs": [
    {
     "data": {
      "text/html": [
       "<div>\n",
       "<style scoped>\n",
       "    .dataframe tbody tr th:only-of-type {\n",
       "        vertical-align: middle;\n",
       "    }\n",
       "\n",
       "    .dataframe tbody tr th {\n",
       "        vertical-align: top;\n",
       "    }\n",
       "\n",
       "    .dataframe thead th {\n",
       "        text-align: right;\n",
       "    }\n",
       "</style>\n",
       "<table border=\"1\" class=\"dataframe\">\n",
       "  <thead>\n",
       "    <tr style=\"text-align: right;\">\n",
       "      <th></th>\n",
       "      <th>page_id</th>\n",
       "      <th>APPEARANCES</th>\n",
       "      <th>Year</th>\n",
       "    </tr>\n",
       "  </thead>\n",
       "  <tbody>\n",
       "    <tr>\n",
       "      <th>count</th>\n",
       "      <td>16376.000000</td>\n",
       "      <td>15280.000000</td>\n",
       "      <td>15561.000000</td>\n",
       "    </tr>\n",
       "    <tr>\n",
       "      <th>mean</th>\n",
       "      <td>300232.082377</td>\n",
       "      <td>17.033377</td>\n",
       "      <td>1984.951803</td>\n",
       "    </tr>\n",
       "    <tr>\n",
       "      <th>std</th>\n",
       "      <td>253460.403399</td>\n",
       "      <td>96.372959</td>\n",
       "      <td>19.663571</td>\n",
       "    </tr>\n",
       "    <tr>\n",
       "      <th>min</th>\n",
       "      <td>1025.000000</td>\n",
       "      <td>1.000000</td>\n",
       "      <td>1939.000000</td>\n",
       "    </tr>\n",
       "    <tr>\n",
       "      <th>25%</th>\n",
       "      <td>28309.500000</td>\n",
       "      <td>1.000000</td>\n",
       "      <td>1974.000000</td>\n",
       "    </tr>\n",
       "    <tr>\n",
       "      <th>50%</th>\n",
       "      <td>282578.000000</td>\n",
       "      <td>3.000000</td>\n",
       "      <td>1990.000000</td>\n",
       "    </tr>\n",
       "    <tr>\n",
       "      <th>75%</th>\n",
       "      <td>509077.000000</td>\n",
       "      <td>8.000000</td>\n",
       "      <td>2000.000000</td>\n",
       "    </tr>\n",
       "    <tr>\n",
       "      <th>max</th>\n",
       "      <td>755278.000000</td>\n",
       "      <td>4043.000000</td>\n",
       "      <td>2013.000000</td>\n",
       "    </tr>\n",
       "  </tbody>\n",
       "</table>\n",
       "</div>"
      ],
      "text/plain": [
       "             page_id   APPEARANCES          Year\n",
       "count   16376.000000  15280.000000  15561.000000\n",
       "mean   300232.082377     17.033377   1984.951803\n",
       "std    253460.403399     96.372959     19.663571\n",
       "min      1025.000000      1.000000   1939.000000\n",
       "25%     28309.500000      1.000000   1974.000000\n",
       "50%    282578.000000      3.000000   1990.000000\n",
       "75%    509077.000000      8.000000   2000.000000\n",
       "max    755278.000000   4043.000000   2013.000000"
      ]
     },
     "execution_count": 2,
     "metadata": {},
     "output_type": "execute_result"
    }
   ],
   "source": [
    "# further explorations\n",
    "marvel.describe()"
   ]
  },
  {
   "cell_type": "code",
   "execution_count": 3,
   "id": "3561b031",
   "metadata": {},
   "outputs": [
    {
     "data": {
      "text/plain": [
       "Bad Characters        6720\n",
       "Good Characters       4636\n",
       "Neutral Characters    2208\n",
       "Name: ALIGN, dtype: int64"
      ]
     },
     "execution_count": 3,
     "metadata": {},
     "output_type": "execute_result"
    }
   ],
   "source": [
    "marvel[\"ALIGN\"].value_counts()"
   ]
  },
  {
   "cell_type": "code",
   "execution_count": 4,
   "id": "68b60e72",
   "metadata": {},
   "outputs": [
    {
     "data": {
      "text/plain": [
       "array([[<AxesSubplot:title={'center':'page_id'}>,\n",
       "        <AxesSubplot:title={'center':'APPEARANCES'}>],\n",
       "       [<AxesSubplot:title={'center':'Year'}>, <AxesSubplot:>]],\n",
       "      dtype=object)"
      ]
     },
     "execution_count": 4,
     "metadata": {},
     "output_type": "execute_result"
    },
    {
     "data": {
      "image/png": "[encoded data removed]",
      "text/plain": [
       "<Figure size 1440x1080 with 4 Axes>"
      ]
     },
     "metadata": {
      "needs_background": "light"
     },
     "output_type": "display_data"
    }
   ],
   "source": [
    "# some begining graphs\n",
    "%matplotlib inline\n",
    "marvel.hist(bins=50, figsize =(20,15))"
   ]
  },
  {
   "cell_type": "markdown",
   "id": "9d2883df",
   "metadata": {},
   "source": [
    "No surprise that the appearances are more frequent towards the lower-end of the histogram. I am curious to know what caused a dip in Year on 1960. "
   ]
  },
  {
   "cell_type": "code",
   "execution_count": 5,
   "id": "bdff1f85",
   "metadata": {},
   "outputs": [],
   "source": [
    "# Need to remove certain meta columns\n",
    "marvel = marvel.drop(columns = [\"urlslug\", \"GSM\", \"name\"])"
   ]
  },
  {
   "cell_type": "code",
   "execution_count": 6,
   "id": "1e08ff7b",
   "metadata": {},
   "outputs": [
    {
     "name": "stdout",
     "output_type": "stream",
     "text": [
      "True 2812\n"
     ]
    }
   ],
   "source": [
    "# any NULL values\n",
    "any_missing = marvel.isnull().values.any()\n",
    "\n",
    "# any null values in output\n",
    "null_align = marvel.ALIGN.isnull().sum()\n",
    "\n",
    "print(any_missing, null_align)"
   ]
  },
  {
   "cell_type": "code",
   "execution_count": 7,
   "id": "a94fe132",
   "metadata": {},
   "outputs": [
    {
     "name": "stdout",
     "output_type": "stream",
     "text": [
      "['ID', 'ALIGN', 'EYE', 'HAIR', 'SEX', 'ALIVE', 'APPEARANCES', 'FIRST APPEARANCE', 'Year']\n"
     ]
    }
   ],
   "source": [
    "# which columns with NAs\n",
    "\n",
    "nan_values = marvel.isna()\n",
    "nan_columns = nan_values.any()\n",
    "\n",
    "columns_with_nan = marvel.columns[nan_columns].tolist()\n",
    "print(columns_with_nan)"
   ]
  },
  {
   "cell_type": "code",
   "execution_count": 8,
   "id": "474761b4",
   "metadata": {},
   "outputs": [],
   "source": [
    "# remove those with NA on align\n",
    "marvel = marvel.dropna(subset=['ALIGN'])\n",
    "# drop NAs for Year\n",
    "marvel = marvel.dropna(subset=['Year'])\n"
   ]
  },
  {
   "cell_type": "code",
   "execution_count": 9,
   "id": "11aba335",
   "metadata": {},
   "outputs": [
    {
     "data": {
      "text/plain": [
       "<AxesSubplot:>"
      ]
     },
     "execution_count": 9,
     "metadata": {},
     "output_type": "execute_result"
    },
    {
     "data": {
      "image/png": "[encoded data removed]",
      "text/plain": [
       "<Figure size 432x288 with 1 Axes>"
      ]
     },
     "metadata": {
      "needs_background": "light"
     },
     "output_type": "display_data"
    }
   ],
   "source": [
    "# marvel histogram\n",
    "marvel['ALIGN'].hist()"
   ]
  },
  {
   "cell_type": "markdown",
   "id": "c63a8e68",
   "metadata": {},
   "source": [
    "## Split into Test/Train data"
   ]
  },
  {
   "cell_type": "code",
   "execution_count": 10,
   "id": "00b53014",
   "metadata": {},
   "outputs": [],
   "source": [
    "# create test/test datasets\n",
    "from sklearn.model_selection import StratifiedShuffleSplit\n",
    "\n",
    "split = StratifiedShuffleSplit(n_splits=1, test_size = 0.2, random_state=42)\n",
    "for train_index, test_index, in split.split(marvel, marvel[\"ALIGN\"]):\n",
    "    marvel_train= marvel.iloc[train_index]\n",
    "    marvel_test = marvel.iloc[test_index]"
   ]
  },
  {
   "cell_type": "markdown",
   "id": "9d3e3997",
   "metadata": {},
   "source": [
    "## Further Exploration Of Just Training Data"
   ]
  },
  {
   "cell_type": "code",
   "execution_count": 11,
   "id": "1e19482d",
   "metadata": {},
   "outputs": [
    {
     "data": {
      "text/plain": [
       "Bad Characters        0.500436\n",
       "Good Characters       0.338764\n",
       "Neutral Characters    0.160799\n",
       "Name: ALIGN, dtype: float64"
      ]
     },
     "execution_count": 11,
     "metadata": {},
     "output_type": "execute_result"
    }
   ],
   "source": [
    "# see proportions for align\n",
    "marvel_train[\"ALIGN\"].value_counts()/len(marvel_train)"
   ]
  },
  {
   "cell_type": "code",
   "execution_count": 12,
   "id": "14081978",
   "metadata": {},
   "outputs": [
    {
     "data": {
      "text/html": [
       "<div>\n",
       "<style scoped>\n",
       "    .dataframe tbody tr th:only-of-type {\n",
       "        vertical-align: middle;\n",
       "    }\n",
       "\n",
       "    .dataframe tbody tr th {\n",
       "        vertical-align: top;\n",
       "    }\n",
       "\n",
       "    .dataframe thead th {\n",
       "        text-align: right;\n",
       "    }\n",
       "</style>\n",
       "<table border=\"1\" class=\"dataframe\">\n",
       "  <thead>\n",
       "    <tr style=\"text-align: right;\">\n",
       "      <th>EYE</th>\n",
       "      <th>Amber Eyes</th>\n",
       "      <th>Black Eyeballs</th>\n",
       "      <th>Black Eyes</th>\n",
       "      <th>Blue Eyes</th>\n",
       "      <th>Brown Eyes</th>\n",
       "      <th>Compound Eyes</th>\n",
       "      <th>Gold Eyes</th>\n",
       "      <th>Green Eyes</th>\n",
       "      <th>Grey Eyes</th>\n",
       "      <th>Hazel Eyes</th>\n",
       "      <th>...</th>\n",
       "      <th>Orange Eyes</th>\n",
       "      <th>Pink Eyes</th>\n",
       "      <th>Purple Eyes</th>\n",
       "      <th>Red Eyes</th>\n",
       "      <th>Silver Eyes</th>\n",
       "      <th>Variable Eyes</th>\n",
       "      <th>Violet Eyes</th>\n",
       "      <th>White Eyes</th>\n",
       "      <th>Yellow Eyeballs</th>\n",
       "      <th>Yellow Eyes</th>\n",
       "    </tr>\n",
       "    <tr>\n",
       "      <th>ALIGN</th>\n",
       "      <th></th>\n",
       "      <th></th>\n",
       "      <th></th>\n",
       "      <th></th>\n",
       "      <th></th>\n",
       "      <th></th>\n",
       "      <th></th>\n",
       "      <th></th>\n",
       "      <th></th>\n",
       "      <th></th>\n",
       "      <th></th>\n",
       "      <th></th>\n",
       "      <th></th>\n",
       "      <th></th>\n",
       "      <th></th>\n",
       "      <th></th>\n",
       "      <th></th>\n",
       "      <th></th>\n",
       "      <th></th>\n",
       "      <th></th>\n",
       "      <th></th>\n",
       "    </tr>\n",
       "  </thead>\n",
       "  <tbody>\n",
       "    <tr>\n",
       "      <th>Bad Characters</th>\n",
       "      <td>2</td>\n",
       "      <td>0</td>\n",
       "      <td>149</td>\n",
       "      <td>439</td>\n",
       "      <td>459</td>\n",
       "      <td>1</td>\n",
       "      <td>2</td>\n",
       "      <td>216</td>\n",
       "      <td>28</td>\n",
       "      <td>22</td>\n",
       "      <td>...</td>\n",
       "      <td>13</td>\n",
       "      <td>5</td>\n",
       "      <td>10</td>\n",
       "      <td>232</td>\n",
       "      <td>4</td>\n",
       "      <td>18</td>\n",
       "      <td>4</td>\n",
       "      <td>126</td>\n",
       "      <td>2</td>\n",
       "      <td>110</td>\n",
       "    </tr>\n",
       "    <tr>\n",
       "      <th>Good Characters</th>\n",
       "      <td>0</td>\n",
       "      <td>2</td>\n",
       "      <td>111</td>\n",
       "      <td>643</td>\n",
       "      <td>564</td>\n",
       "      <td>0</td>\n",
       "      <td>3</td>\n",
       "      <td>135</td>\n",
       "      <td>21</td>\n",
       "      <td>19</td>\n",
       "      <td>...</td>\n",
       "      <td>5</td>\n",
       "      <td>6</td>\n",
       "      <td>3</td>\n",
       "      <td>51</td>\n",
       "      <td>3</td>\n",
       "      <td>5</td>\n",
       "      <td>1</td>\n",
       "      <td>75</td>\n",
       "      <td>2</td>\n",
       "      <td>25</td>\n",
       "    </tr>\n",
       "    <tr>\n",
       "      <th>Neutral Characters</th>\n",
       "      <td>1</td>\n",
       "      <td>1</td>\n",
       "      <td>72</td>\n",
       "      <td>235</td>\n",
       "      <td>217</td>\n",
       "      <td>0</td>\n",
       "      <td>3</td>\n",
       "      <td>70</td>\n",
       "      <td>18</td>\n",
       "      <td>12</td>\n",
       "      <td>...</td>\n",
       "      <td>4</td>\n",
       "      <td>0</td>\n",
       "      <td>4</td>\n",
       "      <td>50</td>\n",
       "      <td>1</td>\n",
       "      <td>8</td>\n",
       "      <td>2</td>\n",
       "      <td>43</td>\n",
       "      <td>0</td>\n",
       "      <td>28</td>\n",
       "    </tr>\n",
       "  </tbody>\n",
       "</table>\n",
       "<p>3 rows × 24 columns</p>\n",
       "</div>"
      ],
      "text/plain": [
       "EYE                 Amber Eyes  Black Eyeballs  Black Eyes  Blue Eyes  \\\n",
       "ALIGN                                                                   \n",
       "Bad Characters               2               0         149        439   \n",
       "Good Characters              0               2         111        643   \n",
       "Neutral Characters           1               1          72        235   \n",
       "\n",
       "EYE                 Brown Eyes  Compound Eyes  Gold Eyes  Green Eyes  \\\n",
       "ALIGN                                                                  \n",
       "Bad Characters             459              1          2         216   \n",
       "Good Characters            564              0          3         135   \n",
       "Neutral Characters         217              0          3          70   \n",
       "\n",
       "EYE                 Grey Eyes  Hazel Eyes  ...  Orange Eyes  Pink Eyes  \\\n",
       "ALIGN                                      ...                           \n",
       "Bad Characters             28          22  ...           13          5   \n",
       "Good Characters            21          19  ...            5          6   \n",
       "Neutral Characters         18          12  ...            4          0   \n",
       "\n",
       "EYE                 Purple Eyes  Red Eyes  Silver Eyes  Variable Eyes  \\\n",
       "ALIGN                                                                   \n",
       "Bad Characters               10       232            4             18   \n",
       "Good Characters               3        51            3              5   \n",
       "Neutral Characters            4        50            1              8   \n",
       "\n",
       "EYE                 Violet Eyes  White Eyes  Yellow Eyeballs  Yellow Eyes  \n",
       "ALIGN                                                                      \n",
       "Bad Characters                4         126                2          110  \n",
       "Good Characters               1          75                2           25  \n",
       "Neutral Characters            2          43                0           28  \n",
       "\n",
       "[3 rows x 24 columns]"
      ]
     },
     "execution_count": 12,
     "metadata": {},
     "output_type": "execute_result"
    }
   ],
   "source": [
    "# table of eye and align\n",
    "pd.crosstab(index=marvel_train['ALIGN'], columns=marvel['EYE'])\n",
    "\n",
    "# bad characters seem to have more black and red eyes,\n",
    "# while good characters seem to have more blue and brown eyes\n",
    "# I am not seeing any clear pattern for neutral characters"
   ]
  },
  {
   "cell_type": "code",
   "execution_count": 13,
   "id": "87949faf",
   "metadata": {},
   "outputs": [
    {
     "data": {
      "text/html": [
       "<div>\n",
       "<style scoped>\n",
       "    .dataframe tbody tr th:only-of-type {\n",
       "        vertical-align: middle;\n",
       "    }\n",
       "\n",
       "    .dataframe tbody tr th {\n",
       "        vertical-align: top;\n",
       "    }\n",
       "\n",
       "    .dataframe thead th {\n",
       "        text-align: right;\n",
       "    }\n",
       "</style>\n",
       "<table border=\"1\" class=\"dataframe\">\n",
       "  <thead>\n",
       "    <tr style=\"text-align: right;\">\n",
       "      <th>HAIR</th>\n",
       "      <th>Auburn Hair</th>\n",
       "      <th>Bald</th>\n",
       "      <th>Black Hair</th>\n",
       "      <th>Blond Hair</th>\n",
       "      <th>Blue Hair</th>\n",
       "      <th>Bronze Hair</th>\n",
       "      <th>Brown Hair</th>\n",
       "      <th>Dyed Hair</th>\n",
       "      <th>Gold Hair</th>\n",
       "      <th>Green Hair</th>\n",
       "      <th>...</th>\n",
       "      <th>Orange-brown Hair</th>\n",
       "      <th>Pink Hair</th>\n",
       "      <th>Purple Hair</th>\n",
       "      <th>Red Hair</th>\n",
       "      <th>Reddish Blond Hair</th>\n",
       "      <th>Silver Hair</th>\n",
       "      <th>Strawberry Blond Hair</th>\n",
       "      <th>Variable Hair</th>\n",
       "      <th>White Hair</th>\n",
       "      <th>Yellow Hair</th>\n",
       "    </tr>\n",
       "    <tr>\n",
       "      <th>ALIGN</th>\n",
       "      <th></th>\n",
       "      <th></th>\n",
       "      <th></th>\n",
       "      <th></th>\n",
       "      <th></th>\n",
       "      <th></th>\n",
       "      <th></th>\n",
       "      <th></th>\n",
       "      <th></th>\n",
       "      <th></th>\n",
       "      <th></th>\n",
       "      <th></th>\n",
       "      <th></th>\n",
       "      <th></th>\n",
       "      <th></th>\n",
       "      <th></th>\n",
       "      <th></th>\n",
       "      <th></th>\n",
       "      <th></th>\n",
       "      <th></th>\n",
       "      <th></th>\n",
       "    </tr>\n",
       "  </thead>\n",
       "  <tbody>\n",
       "    <tr>\n",
       "      <th>Bad Characters</th>\n",
       "      <td>17</td>\n",
       "      <td>357</td>\n",
       "      <td>1238</td>\n",
       "      <td>349</td>\n",
       "      <td>16</td>\n",
       "      <td>0</td>\n",
       "      <td>664</td>\n",
       "      <td>0</td>\n",
       "      <td>1</td>\n",
       "      <td>37</td>\n",
       "      <td>...</td>\n",
       "      <td>2</td>\n",
       "      <td>8</td>\n",
       "      <td>14</td>\n",
       "      <td>149</td>\n",
       "      <td>3</td>\n",
       "      <td>3</td>\n",
       "      <td>9</td>\n",
       "      <td>10</td>\n",
       "      <td>225</td>\n",
       "      <td>7</td>\n",
       "    </tr>\n",
       "    <tr>\n",
       "      <th>Good Characters</th>\n",
       "      <td>26</td>\n",
       "      <td>102</td>\n",
       "      <td>862</td>\n",
       "      <td>453</td>\n",
       "      <td>9</td>\n",
       "      <td>1</td>\n",
       "      <td>593</td>\n",
       "      <td>0</td>\n",
       "      <td>4</td>\n",
       "      <td>27</td>\n",
       "      <td>...</td>\n",
       "      <td>0</td>\n",
       "      <td>10</td>\n",
       "      <td>9</td>\n",
       "      <td>172</td>\n",
       "      <td>1</td>\n",
       "      <td>3</td>\n",
       "      <td>19</td>\n",
       "      <td>6</td>\n",
       "      <td>216</td>\n",
       "      <td>4</td>\n",
       "    </tr>\n",
       "    <tr>\n",
       "      <th>Neutral Characters</th>\n",
       "      <td>8</td>\n",
       "      <td>101</td>\n",
       "      <td>350</td>\n",
       "      <td>178</td>\n",
       "      <td>9</td>\n",
       "      <td>0</td>\n",
       "      <td>258</td>\n",
       "      <td>1</td>\n",
       "      <td>1</td>\n",
       "      <td>10</td>\n",
       "      <td>...</td>\n",
       "      <td>0</td>\n",
       "      <td>5</td>\n",
       "      <td>3</td>\n",
       "      <td>81</td>\n",
       "      <td>0</td>\n",
       "      <td>3</td>\n",
       "      <td>3</td>\n",
       "      <td>3</td>\n",
       "      <td>73</td>\n",
       "      <td>4</td>\n",
       "    </tr>\n",
       "  </tbody>\n",
       "</table>\n",
       "<p>3 rows × 25 columns</p>\n",
       "</div>"
      ],
      "text/plain": [
       "HAIR                Auburn Hair  Bald  Black Hair  Blond Hair  Blue Hair  \\\n",
       "ALIGN                                                                      \n",
       "Bad Characters               17   357        1238         349         16   \n",
       "Good Characters              26   102         862         453          9   \n",
       "Neutral Characters            8   101         350         178          9   \n",
       "\n",
       "HAIR                Bronze Hair  Brown Hair  Dyed Hair  Gold Hair  Green Hair  \\\n",
       "ALIGN                                                                           \n",
       "Bad Characters                0         664          0          1          37   \n",
       "Good Characters               1         593          0          4          27   \n",
       "Neutral Characters            0         258          1          1          10   \n",
       "\n",
       "HAIR                ...  Orange-brown Hair  Pink Hair  Purple Hair  Red Hair  \\\n",
       "ALIGN               ...                                                        \n",
       "Bad Characters      ...                  2          8           14       149   \n",
       "Good Characters     ...                  0         10            9       172   \n",
       "Neutral Characters  ...                  0          5            3        81   \n",
       "\n",
       "HAIR                Reddish Blond Hair  Silver Hair  Strawberry Blond Hair  \\\n",
       "ALIGN                                                                        \n",
       "Bad Characters                       3            3                      9   \n",
       "Good Characters                      1            3                     19   \n",
       "Neutral Characters                   0            3                      3   \n",
       "\n",
       "HAIR                Variable Hair  White Hair  Yellow Hair  \n",
       "ALIGN                                                       \n",
       "Bad Characters                 10         225            7  \n",
       "Good Characters                 6         216            4  \n",
       "Neutral Characters              3          73            4  \n",
       "\n",
       "[3 rows x 25 columns]"
      ]
     },
     "execution_count": 13,
     "metadata": {},
     "output_type": "execute_result"
    }
   ],
   "source": [
    "# table of align and hair color\n",
    "pd.crosstab(index=marvel_train['ALIGN'], columns=marvel['HAIR'])\n",
    "\n",
    "# bad characters seem to have bald or black hair\n",
    "# good characters seem to have brown hair or red hair\n",
    "# and I am not seeing any clear pattern for neutral characters, like in eye color"
   ]
  },
  {
   "cell_type": "code",
   "execution_count": 14,
   "id": "a52c0777",
   "metadata": {},
   "outputs": [
    {
     "data": {
      "text/html": [
       "<div>\n",
       "<style scoped>\n",
       "    .dataframe tbody tr th:only-of-type {\n",
       "        vertical-align: middle;\n",
       "    }\n",
       "\n",
       "    .dataframe tbody tr th {\n",
       "        vertical-align: top;\n",
       "    }\n",
       "\n",
       "    .dataframe thead th {\n",
       "        text-align: right;\n",
       "    }\n",
       "</style>\n",
       "<table border=\"1\" class=\"dataframe\">\n",
       "  <thead>\n",
       "    <tr style=\"text-align: right;\">\n",
       "      <th>ID</th>\n",
       "      <th>Known to Authorities Identity</th>\n",
       "      <th>No Dual Identity</th>\n",
       "      <th>Public Identity</th>\n",
       "      <th>Secret Identity</th>\n",
       "    </tr>\n",
       "    <tr>\n",
       "      <th>ALIGN</th>\n",
       "      <th></th>\n",
       "      <th></th>\n",
       "      <th></th>\n",
       "      <th></th>\n",
       "    </tr>\n",
       "  </thead>\n",
       "  <tbody>\n",
       "    <tr>\n",
       "      <th>Bad Characters</th>\n",
       "      <td>3</td>\n",
       "      <td>340</td>\n",
       "      <td>1132</td>\n",
       "      <td>2480</td>\n",
       "    </tr>\n",
       "    <tr>\n",
       "      <th>Good Characters</th>\n",
       "      <td>8</td>\n",
       "      <td>472</td>\n",
       "      <td>1249</td>\n",
       "      <td>1210</td>\n",
       "    </tr>\n",
       "    <tr>\n",
       "      <th>Neutral Characters</th>\n",
       "      <td>2</td>\n",
       "      <td>268</td>\n",
       "      <td>541</td>\n",
       "      <td>611</td>\n",
       "    </tr>\n",
       "  </tbody>\n",
       "</table>\n",
       "</div>"
      ],
      "text/plain": [
       "ID                  Known to Authorities Identity  No Dual Identity  \\\n",
       "ALIGN                                                                 \n",
       "Bad Characters                                  3               340   \n",
       "Good Characters                                 8               472   \n",
       "Neutral Characters                              2               268   \n",
       "\n",
       "ID                  Public Identity  Secret Identity  \n",
       "ALIGN                                                 \n",
       "Bad Characters                 1132             2480  \n",
       "Good Characters                1249             1210  \n",
       "Neutral Characters              541              611  "
      ]
     },
     "execution_count": 14,
     "metadata": {},
     "output_type": "execute_result"
    }
   ],
   "source": [
    "# lets look at secret identiy\n",
    "pd.crosstab(index=marvel_train['ALIGN'], columns=marvel['ID'])\n",
    "\n",
    "# bad characters seem to have the most secret identities"
   ]
  },
  {
   "cell_type": "code",
   "execution_count": 15,
   "id": "cf6a0eb1",
   "metadata": {},
   "outputs": [
    {
     "data": {
      "text/html": [
       "<div>\n",
       "<style scoped>\n",
       "    .dataframe tbody tr th:only-of-type {\n",
       "        vertical-align: middle;\n",
       "    }\n",
       "\n",
       "    .dataframe tbody tr th {\n",
       "        vertical-align: top;\n",
       "    }\n",
       "\n",
       "    .dataframe thead th {\n",
       "        text-align: right;\n",
       "    }\n",
       "</style>\n",
       "<table border=\"1\" class=\"dataframe\">\n",
       "  <thead>\n",
       "    <tr style=\"text-align: right;\">\n",
       "      <th>SEX</th>\n",
       "      <th>Agender Characters</th>\n",
       "      <th>Female Characters</th>\n",
       "      <th>Genderfluid Characters</th>\n",
       "      <th>Male Characters</th>\n",
       "    </tr>\n",
       "    <tr>\n",
       "      <th>ALIGN</th>\n",
       "      <th></th>\n",
       "      <th></th>\n",
       "      <th></th>\n",
       "      <th></th>\n",
       "    </tr>\n",
       "  </thead>\n",
       "  <tbody>\n",
       "    <tr>\n",
       "      <th>Bad Characters</th>\n",
       "      <td>12</td>\n",
       "      <td>746</td>\n",
       "      <td>0</td>\n",
       "      <td>4103</td>\n",
       "    </tr>\n",
       "    <tr>\n",
       "      <th>Good Characters</th>\n",
       "      <td>8</td>\n",
       "      <td>1142</td>\n",
       "      <td>1</td>\n",
       "      <td>2257</td>\n",
       "    </tr>\n",
       "    <tr>\n",
       "      <th>Neutral Characters</th>\n",
       "      <td>11</td>\n",
       "      <td>472</td>\n",
       "      <td>1</td>\n",
       "      <td>1086</td>\n",
       "    </tr>\n",
       "  </tbody>\n",
       "</table>\n",
       "</div>"
      ],
      "text/plain": [
       "SEX                 Agender Characters  Female Characters  \\\n",
       "ALIGN                                                       \n",
       "Bad Characters                      12                746   \n",
       "Good Characters                      8               1142   \n",
       "Neutral Characters                  11                472   \n",
       "\n",
       "SEX                 Genderfluid Characters  Male Characters  \n",
       "ALIGN                                                        \n",
       "Bad Characters                           0             4103  \n",
       "Good Characters                          1             2257  \n",
       "Neutral Characters                       1             1086  "
      ]
     },
     "execution_count": 15,
     "metadata": {},
     "output_type": "execute_result"
    }
   ],
   "source": [
    "# lets look at sex\n",
    "pd.crosstab(index=marvel_train['ALIGN'], columns=marvel['SEX'])\n",
    "\n",
    "# it appears more female charactes are good and more male characters are bad"
   ]
  },
  {
   "cell_type": "markdown",
   "id": "502a11fa",
   "metadata": {},
   "source": [
    "## Transform Data"
   ]
  },
  {
   "cell_type": "code",
   "execution_count": 16,
   "id": "ec686943",
   "metadata": {},
   "outputs": [],
   "source": [
    "# create custom transformer for date\n",
    "from sklearn.base import BaseEstimator, TransformerMixin\n",
    "from pandas.api.types import CategoricalDtype\n",
    "\n",
    "class ChangeDate(BaseEstimator, TransformerMixin):\n",
    "    def _init_(self):\n",
    "        print('starting init')\n",
    "    def fit(self, X, y=None):\n",
    "        return self\n",
    "    def transform(self, X):\n",
    "        first_appearance = X[\"FIRST APPEARANCE\"].str.extract(r'([A-Z][a-z]+)')\n",
    "        X = X.drop(columns=[\"FIRST APPEARANCE\"])\n",
    "        return np.c_[X, first_appearance]\n",
    "\n",
    "# create processing pipelines\n",
    "from sklearn.pipeline import Pipeline\n",
    "from sklearn.preprocessing import StandardScaler, OneHotEncoder\n",
    "from sklearn.impute import SimpleImputer\n",
    "\n",
    "# numger pipeline\n",
    "num_pipeline = Pipeline([\n",
    "    ('impute_num', SimpleImputer(strategy='median')),\n",
    "    ('std_scaler', StandardScaler()),\n",
    "])\n",
    "\n",
    "cat_pipeline = Pipeline([\n",
    "    ('inpute_cat', SimpleImputer(strategy='most_frequent')),\n",
    "    ('encoder', OneHotEncoder()),\n",
    "])\n",
    "\n",
    "dat_pipeline = Pipeline([\n",
    "    ('get_month', ChangeDate()),\n",
    "    ('encoder', OneHotEncoder()),\n",
    "])\n",
    "\n",
    "num_attributes = list(marvel_train[[\"APPEARANCES\", \"Year\"]])\n",
    "cat_attributes = list(marvel_train[[\"ID\", \"EYE\", \"HAIR\", \"SEX\", \"ALIVE\"]])\n",
    "dt_attributes = list(marvel_train[[\"FIRST APPEARANCE\"]])\n",
    "\n",
    "from sklearn.compose import ColumnTransformer\n",
    "\n",
    "full_pipeline = ColumnTransformer(\n",
    "    transformers = [\n",
    "    (\"num\", num_pipeline, num_attributes),\n",
    "    (\"cat\", cat_pipeline, cat_attributes),\n",
    "    (\"dt\", dat_pipeline, dt_attributes)],\n",
    "remainder = \"drop\")\n",
    "\n",
    "marvel_train_prep = full_pipeline.fit_transform(marvel_train)"
   ]
  },
  {
   "cell_type": "markdown",
   "id": "b26721dd",
   "metadata": {},
   "source": [
    "## Create Model"
   ]
  },
  {
   "cell_type": "code",
   "execution_count": 17,
   "id": "2cd933be",
   "metadata": {},
   "outputs": [
    {
     "data": {
      "text/plain": [
       "RandomForestClassifier()"
      ]
     },
     "execution_count": 17,
     "metadata": {},
     "output_type": "execute_result"
    }
   ],
   "source": [
    "# separate out outcome variable\n",
    "marvel_align = marvel_train[\"ALIGN\"]\n",
    "\n",
    "# get random forest model\n",
    "from sklearn.ensemble import RandomForestClassifier\n",
    "\n",
    "rf = RandomForestClassifier()\n",
    "rf.fit(marvel_train_prep, marvel_align)"
   ]
  },
  {
   "cell_type": "code",
   "execution_count": 18,
   "id": "91c86843",
   "metadata": {},
   "outputs": [
    {
     "data": {
      "text/plain": [
       "SVC()"
      ]
     },
     "execution_count": 18,
     "metadata": {},
     "output_type": "execute_result"
    }
   ],
   "source": [
    "# lets get a second model to compare the random forest to\n",
    "# going to use a support vector machine model\n",
    "\n",
    "from sklearn.svm import SVC\n",
    "\n",
    "svm = SVC()\n",
    "\n",
    "svm.fit(marvel_train_prep, marvel_align)"
   ]
  },
  {
   "cell_type": "markdown",
   "id": "3f10f1b5",
   "metadata": {},
   "source": [
    "## Evaluate Model"
   ]
  },
  {
   "cell_type": "code",
   "execution_count": 19,
   "id": "f0921e34",
   "metadata": {},
   "outputs": [],
   "source": [
    "# Now that I have my two models, let's see how they compare\n",
    "\n",
    "# I am going to use cross validation\n",
    "from sklearn.model_selection import cross_val_score\n",
    "\n",
    "# start with random forest\n",
    "rf_score = cross_val_score(rf, marvel_train_prep, marvel_align, cv=5, scoring='accuracy')\n"
   ]
  },
  {
   "cell_type": "code",
   "execution_count": 20,
   "id": "5224da84",
   "metadata": {},
   "outputs": [],
   "source": [
    "# now lets look at the svm\n",
    "svm_score = cross_val_score(svm, marvel_train_prep, marvel_align, cv=5, scoring='accuracy')"
   ]
  },
  {
   "cell_type": "code",
   "execution_count": 21,
   "id": "16ff7bc8",
   "metadata": {},
   "outputs": [
    {
     "data": {
      "text/plain": [
       "(array([0.57682986, 0.57468477, 0.57613967, 0.57516974, 0.56789525]),\n",
       " array([0.5758604 , 0.58341416, 0.59020369, 0.59553831, 0.58389913]))"
      ]
     },
     "execution_count": 21,
     "metadata": {},
     "output_type": "execute_result"
    }
   ],
   "source": [
    "# comparison of the two models\n",
    "comp = (rf_score, svm_score)\n",
    "comp\n",
    "\n",
    "# These are not exactly the best accuracies either way, but it looks like random forest \n",
    "# does the best, for kicks lets see if we can visualize the accuracy of these models"
   ]
  },
  {
   "cell_type": "code",
   "execution_count": 41,
   "id": "dfe7bb6c",
   "metadata": {},
   "outputs": [
    {
     "data": {
      "image/png": "[encoded data removed]",
      "text/plain": [
       "<Figure size 288x288 with 1 Axes>"
      ]
     },
     "metadata": {
      "needs_background": "light"
     },
     "output_type": "display_data"
    }
   ],
   "source": [
    "# random forest\n",
    "from sklearn.metrics import confusion_matrix\n",
    "from sklearn.model_selection import cross_val_predict\n",
    "rf_train_predict = cross_val_predict(rf, marvel_train_prep, marvel_align, cv=5)\n",
    "\n",
    "rf_mx = confusion_matrix(marvel_align, rf_train_predict)\n",
    "plt.matshow(rf_mx, cmap=plt.cm.gray)\n",
    "plt.show()"
   ]
  },
  {
   "cell_type": "code",
   "execution_count": 42,
   "id": "d9b03aa6",
   "metadata": {},
   "outputs": [
    {
     "data": {
      "image/png": "[encoded data removed]",
      "text/plain": [
       "<Figure size 288x288 with 1 Axes>"
      ]
     },
     "metadata": {
      "needs_background": "light"
     },
     "output_type": "display_data"
    }
   ],
   "source": [
    "svm_train_predict = cross_val_predict(svm, marvel_train_prep, marvel_align, cv=5)\n",
    "\n",
    "svm_mx = confusion_matrix(marvel_align, svm_train_predict)\n",
    "plt.matshow(svm_mx, cmap=plt.cm.gray)\n",
    "plt.show()"
   ]
  },
  {
   "cell_type": "markdown",
   "id": "c2a9752b",
   "metadata": {},
   "source": [
    "From these plots, they almost look pretty similar in iding the marvel character's allegiance"
   ]
  },
  {
   "cell_type": "markdown",
   "id": "bad38e09",
   "metadata": {},
   "source": [
    "## Model Turning"
   ]
  },
  {
   "cell_type": "markdown",
   "id": "cb4bcedb",
   "metadata": {},
   "source": [
    "Next let's see if we can fine tune the random forest model, since it is a more acurate model, by addressing the hypterparameters."
   ]
  },
  {
   "cell_type": "code",
   "execution_count": 26,
   "id": "25a93439",
   "metadata": {},
   "outputs": [
    {
     "data": {
      "text/plain": [
       "GridSearchCV(cv=5, estimator=RandomForestClassifier(),\n",
       "             param_grid=[{'max_depth': [3, 10, 30],\n",
       "                          'max_features': [2, 4, 6, 8, 10, 12],\n",
       "                          'n_estimators': [1, 2, 5, 6, 7, 8, 10, 12]}],\n",
       "             return_train_score=True, scoring='accuracy')"
      ]
     },
     "execution_count": 26,
     "metadata": {},
     "output_type": "execute_result"
    }
   ],
   "source": [
    "from sklearn.model_selection import GridSearchCV\n",
    "\n",
    "param_grid = [\n",
    "    {'max_depth': [3, 10, 30], 'max_features': [2, 4, 6, 8, 10, 12], 'n_estimators': [1, 2, 5, 6, 7, 8, 10, 12]},\n",
    "]\n",
    "\n",
    "rf = RandomForestClassifier()\n",
    "\n",
    "grid_search = GridSearchCV(rf, param_grid, cv=5, return_train_score=True, scoring = 'accuracy')\n",
    "\n",
    "grid_search.fit(marvel_train_prep, marvel_align)"
   ]
  },
  {
   "cell_type": "code",
   "execution_count": 27,
   "id": "9c2f6ddc",
   "metadata": {},
   "outputs": [
    {
     "data": {
      "text/plain": [
       "{'max_depth': 10, 'max_features': 12, 'n_estimators': 10}"
      ]
     },
     "execution_count": 27,
     "metadata": {},
     "output_type": "execute_result"
    }
   ],
   "source": [
    "grid_search.best_params_"
   ]
  },
  {
   "cell_type": "code",
   "execution_count": 28,
   "id": "6e828ccc",
   "metadata": {},
   "outputs": [
    {
     "name": "stdout",
     "output_type": "stream",
     "text": [
      "0.5146943538479694 {'max_depth': 3, 'max_features': 2, 'n_estimators': 1}\n",
      "0.5107136358913432 {'max_depth': 3, 'max_features': 2, 'n_estimators': 2}\n",
      "0.5149851454169415 {'max_depth': 3, 'max_features': 2, 'n_estimators': 5}\n",
      "0.5055770860945211 {'max_depth': 3, 'max_features': 2, 'n_estimators': 6}\n",
      "0.5155672927422469 {'max_depth': 3, 'max_features': 2, 'n_estimators': 7}\n",
      "0.5174072017576317 {'max_depth': 3, 'max_features': 2, 'n_estimators': 8}\n",
      "0.5055770860945212 {'max_depth': 3, 'max_features': 2, 'n_estimators': 10}\n",
      "0.5078079299354523 {'max_depth': 3, 'max_features': 2, 'n_estimators': 12}\n",
      "0.5169219065959615 {'max_depth': 3, 'max_features': 4, 'n_estimators': 1}\n",
      "0.5238095058988139 {'max_depth': 3, 'max_features': 4, 'n_estimators': 2}\n",
      "0.5282686547375517 {'max_depth': 3, 'max_features': 4, 'n_estimators': 5}\n",
      "0.5372887412180711 {'max_depth': 3, 'max_features': 4, 'n_estimators': 6}\n",
      "0.5334107993923702 {'max_depth': 3, 'max_features': 4, 'n_estimators': 7}\n",
      "0.5205134293047379 {'max_depth': 3, 'max_features': 4, 'n_estimators': 8}\n",
      "0.5226459164824047 {'max_depth': 3, 'max_features': 4, 'n_estimators': 10}\n",
      "0.5348645221591638 {'max_depth': 3, 'max_features': 4, 'n_estimators': 12}\n",
      "0.5348652273933651 {'max_depth': 3, 'max_features': 6, 'n_estimators': 1}\n",
      "0.5281753287449229 {'max_depth': 3, 'max_features': 6, 'n_estimators': 2}\n",
      "0.5451482002658263 {'max_depth': 3, 'max_features': 6, 'n_estimators': 5}\n",
      "0.5290484557016539 {'max_depth': 3, 'max_features': 6, 'n_estimators': 6}\n",
      "0.5430109645112046 {'max_depth': 3, 'max_features': 6, 'n_estimators': 7}\n",
      "0.5453404471090805 {'max_depth': 3, 'max_features': 6, 'n_estimators': 8}\n",
      "0.5395224530114205 {'max_depth': 3, 'max_features': 6, 'n_estimators': 10}\n",
      "0.5451462726256763 {'max_depth': 3, 'max_features': 6, 'n_estimators': 12}\n",
      "0.5388418549916242 {'max_depth': 3, 'max_features': 8, 'n_estimators': 1}\n",
      "0.5395206194024974 {'max_depth': 3, 'max_features': 8, 'n_estimators': 2}\n",
      "0.555523887927942 {'max_depth': 3, 'max_features': 8, 'n_estimators': 5}\n",
      "0.550867508590928 {'max_depth': 3, 'max_features': 8, 'n_estimators': 6}\n",
      "0.545048151040479 {'max_depth': 3, 'max_features': 8, 'n_estimators': 7}\n",
      "0.5541655128251541 {'max_depth': 3, 'max_features': 8, 'n_estimators': 8}\n",
      "0.5545538617919625 {'max_depth': 3, 'max_features': 8, 'n_estimators': 10}\n",
      "0.5466972236810123 {'max_depth': 3, 'max_features': 8, 'n_estimators': 12}\n",
      "0.5389393183582336 {'max_depth': 3, 'max_features': 10, 'n_estimators': 1}\n",
      "0.5466010767515785 {'max_depth': 3, 'max_features': 10, 'n_estimators': 2}\n",
      "0.5572703299038577 {'max_depth': 3, 'max_features': 10, 'n_estimators': 5}\n",
      "0.557364831286822 {'max_depth': 3, 'max_features': 10, 'n_estimators': 6}\n",
      "0.5591108501222172 {'max_depth': 3, 'max_features': 10, 'n_estimators': 7}\n",
      "0.5486370878905176 {'max_depth': 3, 'max_features': 10, 'n_estimators': 8}\n",
      "0.5578493741986776 {'max_depth': 3, 'max_features': 10, 'n_estimators': 10}\n",
      "0.5626023706212597 {'max_depth': 3, 'max_features': 10, 'n_estimators': 12}\n",
      "0.5395209955274047 {'max_depth': 3, 'max_features': 12, 'n_estimators': 1}\n",
      "0.547377069450994 {'max_depth': 3, 'max_features': 12, 'n_estimators': 2}\n",
      "0.5478620355033703 {'max_depth': 3, 'max_features': 12, 'n_estimators': 5}\n",
      "0.5550384517194316 {'max_depth': 3, 'max_features': 12, 'n_estimators': 6}\n",
      "0.5526133393638694 {'max_depth': 3, 'max_features': 12, 'n_estimators': 7}\n",
      "0.5613412708226274 {'max_depth': 3, 'max_features': 12, 'n_estimators': 8}\n",
      "0.553195533704788 {'max_depth': 3, 'max_features': 12, 'n_estimators': 10}\n",
      "0.5594025349878441 {'max_depth': 3, 'max_features': 12, 'n_estimators': 12}\n",
      "0.5228400909658089 {'max_depth': 10, 'max_features': 2, 'n_estimators': 1}\n",
      "0.545434525351524 {'max_depth': 10, 'max_features': 2, 'n_estimators': 2}\n",
      "0.555717357177145 {'max_depth': 10, 'max_features': 2, 'n_estimators': 5}\n",
      "0.555038169625751 {'max_depth': 10, 'max_features': 2, 'n_estimators': 6}\n",
      "0.5647364563297825 {'max_depth': 10, 'max_features': 2, 'n_estimators': 7}\n",
      "0.566674863055272 {'max_depth': 10, 'max_features': 2, 'n_estimators': 8}\n",
      "0.5562029344324957 {'max_depth': 10, 'max_features': 2, 'n_estimators': 10}\n",
      "0.5583354686257759 {'max_depth': 10, 'max_features': 2, 'n_estimators': 12}\n",
      "0.543884373561616 {'max_depth': 10, 'max_features': 4, 'n_estimators': 1}\n",
      "0.5648347659774334 {'max_depth': 10, 'max_features': 4, 'n_estimators': 2}\n",
      "0.5713326998763019 {'max_depth': 10, 'max_features': 4, 'n_estimators': 5}\n",
      "0.5688110174507852 {'max_depth': 10, 'max_features': 4, 'n_estimators': 6}\n",
      "0.5745315481818357 {'max_depth': 10, 'max_features': 4, 'n_estimators': 7}\n",
      "0.5709437397065191 {'max_depth': 10, 'max_features': 4, 'n_estimators': 8}\n",
      "0.581127791728355 {'max_depth': 10, 'max_features': 4, 'n_estimators': 10}\n",
      "0.5797692755787269 {'max_depth': 10, 'max_features': 4, 'n_estimators': 12}\n",
      "0.5498980936579229 {'max_depth': 10, 'max_features': 6, 'n_estimators': 1}\n",
      "0.5563962626348584 {'max_depth': 10, 'max_features': 6, 'n_estimators': 2}\n",
      "0.581515858601483 {'max_depth': 10, 'max_features': 6, 'n_estimators': 5}\n",
      "0.5796728465556126 {'max_depth': 10, 'max_features': 6, 'n_estimators': 6}\n",
      "0.5811268044004734 {'max_depth': 10, 'max_features': 6, 'n_estimators': 7}\n",
      "0.5815151533672818 {'max_depth': 10, 'max_features': 6, 'n_estimators': 8}\n",
      "0.5871410886841412 {'max_depth': 10, 'max_features': 6, 'n_estimators': 10}\n",
      "0.5872378468165493 {'max_depth': 10, 'max_features': 6, 'n_estimators': 12}\n",
      "0.5501898725547767 {'max_depth': 10, 'max_features': 8, 'n_estimators': 1}\n",
      "0.5689066942240848 {'max_depth': 10, 'max_features': 8, 'n_estimators': 2}\n",
      "0.5864610548517056 {'max_depth': 10, 'max_features': 8, 'n_estimators': 5}\n",
      "0.5880140275784186 {'max_depth': 10, 'max_features': 8, 'n_estimators': 6}\n",
      "0.5864621362108142 {'max_depth': 10, 'max_features': 8, 'n_estimators': 7}\n",
      "0.5904373533406708 {'max_depth': 10, 'max_features': 8, 'n_estimators': 8}\n",
      "0.5868494508341275 {'max_depth': 10, 'max_features': 8, 'n_estimators': 10}\n",
      "0.5917958224746858 {'max_depth': 10, 'max_features': 8, 'n_estimators': 12}\n",
      "0.5569794443036588 {'max_depth': 10, 'max_features': 10, 'n_estimators': 1}\n",
      "0.5632823104224682 {'max_depth': 10, 'max_features': 10, 'n_estimators': 2}\n",
      "0.5904387167934599 {'max_depth': 10, 'max_features': 10, 'n_estimators': 5}\n",
      "0.5878188657671326 {'max_depth': 10, 'max_features': 10, 'n_estimators': 6}\n",
      "0.5886920867550904 {'max_depth': 10, 'max_features': 10, 'n_estimators': 7}\n",
      "0.5916980299987824 {'max_depth': 10, 'max_features': 10, 'n_estimators': 8}\n",
      "0.5920862849343639 {'max_depth': 10, 'max_features': 10, 'n_estimators': 10}\n",
      "0.5927658015950517 {'max_depth': 10, 'max_features': 10, 'n_estimators': 12}\n",
      "0.5502857844061434 {'max_depth': 10, 'max_features': 12, 'n_estimators': 1}\n",
      "0.5760852261427498 {'max_depth': 10, 'max_features': 12, 'n_estimators': 2}\n",
      "0.5867525986704926 {'max_depth': 10, 'max_features': 12, 'n_estimators': 5}\n",
      "0.5896615957193225 {'max_depth': 10, 'max_features': 12, 'n_estimators': 6}\n",
      "0.5915043726871256 {'max_depth': 10, 'max_features': 12, 'n_estimators': 7}\n",
      "0.5928627948055271 {'max_depth': 10, 'max_features': 12, 'n_estimators': 8}\n",
      "0.5980023065859942 {'max_depth': 10, 'max_features': 12, 'n_estimators': 10}\n",
      "0.597324670549843 {'max_depth': 10, 'max_features': 12, 'n_estimators': 12}\n",
      "0.5120753020870701 {'max_depth': 30, 'max_features': 2, 'n_estimators': 1}\n",
      "0.5271054884616634 {'max_depth': 30, 'max_features': 2, 'n_estimators': 2}\n",
      "0.5426246372157729 {'max_depth': 30, 'max_features': 2, 'n_estimators': 5}\n",
      "0.5496057975893214 {'max_depth': 30, 'max_features': 2, 'n_estimators': 6}\n",
      "0.547277725459848 {'max_depth': 30, 'max_features': 2, 'n_estimators': 7}\n",
      "0.5504794887334133 {'max_depth': 30, 'max_features': 2, 'n_estimators': 8}\n",
      "0.5571703747097374 {'max_depth': 30, 'max_features': 2, 'n_estimators': 10}\n",
      "0.5563954163538171 {'max_depth': 30, 'max_features': 2, 'n_estimators': 12}\n",
      "0.5045082331391433 {'max_depth': 30, 'max_features': 4, 'n_estimators': 1}\n",
      "0.5276875417557416 {'max_depth': 30, 'max_features': 4, 'n_estimators': 2}\n",
      "0.5475697864503822 {'max_depth': 30, 'max_features': 4, 'n_estimators': 5}\n",
      "0.5495098857379548 {'max_depth': 30, 'max_features': 4, 'n_estimators': 6}\n",
      "0.553582707281261 {'max_depth': 30, 'max_features': 4, 'n_estimators': 7}\n",
      "0.5543586059494497 {'max_depth': 30, 'max_features': 4, 'n_estimators': 8}\n",
      "0.5570736635929426 {'max_depth': 30, 'max_features': 4, 'n_estimators': 10}\n",
      "0.5584324618362512 {'max_depth': 30, 'max_features': 4, 'n_estimators': 12}\n",
      "0.507128695368445 {'max_depth': 30, 'max_features': 6, 'n_estimators': 1}\n",
      "0.5279783803403271 {'max_depth': 30, 'max_features': 6, 'n_estimators': 2}\n",
      "0.5529048831826562 {'max_depth': 30, 'max_features': 6, 'n_estimators': 5}\n",
      "0.553583036390555 {'max_depth': 30, 'max_features': 6, 'n_estimators': 6}\n",
      "0.5520313801010177 {'max_depth': 30, 'max_features': 6, 'n_estimators': 7}\n",
      "0.5626018534495121 {'max_depth': 30, 'max_features': 6, 'n_estimators': 8}\n",
      "0.5567818376804753 {'max_depth': 30, 'max_features': 6, 'n_estimators': 10}\n",
      "0.5663849177673412 {'max_depth': 30, 'max_features': 6, 'n_estimators': 12}\n",
      "0.5072255475320799 {'max_depth': 30, 'max_features': 8, 'n_estimators': 1}\n",
      "0.5352533882977198 {'max_depth': 30, 'max_features': 8, 'n_estimators': 2}\n",
      "0.5507691519276637 {'max_depth': 30, 'max_features': 8, 'n_estimators': 5}\n",
      "0.5629904845100009 {'max_depth': 30, 'max_features': 8, 'n_estimators': 6}\n",
      "0.559887783133901 {'max_depth': 30, 'max_features': 8, 'n_estimators': 7}\n",
      "0.5639597583961657 {'max_depth': 30, 'max_features': 8, 'n_estimators': 8}\n",
      "0.566676226508061 {'max_depth': 30, 'max_features': 8, 'n_estimators': 10}\n",
      "0.5676458765191332 {'max_depth': 30, 'max_features': 8, 'n_estimators': 12}\n",
      "0.5103288601111543 {'max_depth': 30, 'max_features': 10, 'n_estimators': 1}\n",
      "0.5398124453149646 {'max_depth': 30, 'max_features': 10, 'n_estimators': 2}\n",
      "0.5551341284927311 {'max_depth': 30, 'max_features': 10, 'n_estimators': 5}\n",
      "0.5568803824061932 {'max_depth': 30, 'max_features': 10, 'n_estimators': 6}\n",
      "0.5683238886801918 {'max_depth': 30, 'max_features': 10, 'n_estimators': 7}\n",
      "0.5654148446157484 {'max_depth': 30, 'max_features': 10, 'n_estimators': 8}\n",
      "0.5659001397774187 {'max_depth': 30, 'max_features': 10, 'n_estimators': 10}\n",
      "0.5629902964475473 {'max_depth': 30, 'max_features': 10, 'n_estimators': 12}\n",
      "0.49985241798949004 {'max_depth': 30, 'max_features': 12, 'n_estimators': 1}\n",
      "0.5492187180440753 {'max_depth': 30, 'max_features': 12, 'n_estimators': 2}\n",
      "0.5595958631902068 {'max_depth': 30, 'max_features': 12, 'n_estimators': 5}\n",
      "0.5662878775412526 {'max_depth': 30, 'max_features': 12, 'n_estimators': 6}\n",
      "0.564639322072467 {'max_depth': 30, 'max_features': 12, 'n_estimators': 7}\n",
      "0.5634760147497382 {'max_depth': 30, 'max_features': 12, 'n_estimators': 8}\n",
      "0.5709427523786375 {'max_depth': 30, 'max_features': 12, 'n_estimators': 10}\n",
      "0.5688088547325683 {'max_depth': 30, 'max_features': 12, 'n_estimators': 12}\n"
     ]
    }
   ],
   "source": [
    "# see all evaluation scores\n",
    "cvrf = grid_search.cv_results_\n",
    "for accuracy, params in zip(cvrf['mean_test_score'], cvrf['params']):\n",
    "    print(accuracy, params)"
   ]
  },
  {
   "cell_type": "code",
   "execution_count": 29,
   "id": "d47f0cb0",
   "metadata": {
    "scrolled": true
   },
   "outputs": [
    {
     "data": {
      "text/plain": [
       "[(0.1824956614357248, 'Year'),\n",
       " (0.1608611299121478, 'APPEARANCES'),\n",
       " (0.09172861390664538, 'x0_Public Identity'),\n",
       " (0.0704899411750378, 'x3_Genderfluid Characters'),\n",
       " (0.04808833205537207, 'x3_Agender Characters'),\n",
       " (0.03840194689019289, 'x0_No Dual Identity'),\n",
       " (0.030076434390820136, 'x3_Male Characters'),\n",
       " (0.02819686835918665, 'x0_Known to Authorities Identity'),\n",
       " (0.025995699182755388, 'x2_Magenta Hair'),\n",
       " (0.023555060779225707, 'x1_Blue Eyes'),\n",
       " (0.018736290179762756, 'x2_Black Hair'),\n",
       " (0.016904444464401078, 'x4_Deceased Characters'),\n",
       " (0.01581520176402917, 'x1_Black Eyes'),\n",
       " (0.013168196932096579, 'x2_Bald'),\n",
       " (0.012953237972045527, 'x2_Auburn Hair'),\n",
       " (0.01103289396586441, 'x1_Gold Eyes'),\n",
       " (0.010505476369786642, 'x1_Purple Eyes'),\n",
       " (0.00999710068006354, 'x1_Violet Eyes'),\n",
       " (0.009484367752089202, 'x4_Living Characters'),\n",
       " (0.009280720295082466, 'x2_Variable Hair'),\n",
       " (0.008931556914628365, 'x2_Purple Hair'),\n",
       " (0.008644175320179087, 'x2_Bronze Hair'),\n",
       " (0.008035844996319074, 'x1_Black Eyeballs'),\n",
       " (0.005816334362741492, 'x1_Yellow Eyeballs'),\n",
       " (0.0057636015095969715, 'x2_Green Hair'),\n",
       " (0.003349439604015595, 'x1_Green Eyes'),\n",
       " (0.0025218184378038916, 'x2_No Hair'),\n",
       " (0.0018687117818228147, 'x1_Yellow Eyes'),\n",
       " (0.0018240770101958044, 'x2_Pink Hair'),\n",
       " (0.001680523803848463, 'x1_Grey Eyes'),\n",
       " (0.0015314003716488049, 'x2_Silver Hair'),\n",
       " (0.0014953962604758104, 'x2_Gold Hair'),\n",
       " (0.0011357778773534494, 'x2_Yellow Hair'),\n",
       " (0.0011283733210306645, 'x2_White Hair'),\n",
       " (0.0010383860537809201, 'x1_Compound Eyes'),\n",
       " (0.0008629589794572873, 'x1_No Eyes'),\n",
       " (0.0008372950957844627, 'x2_Blond Hair'),\n",
       " (0.0008185994407890093, 'x1_Pink Eyes'),\n",
       " (0.0007611526802781567, 'FIRST APPEARANCE'),\n",
       " (0.0007581213482551046, 'x1_Magenta Eyes'),\n",
       " (0.0005791758774016112, 'x2_Orange-brown Hair'),\n",
       " (0.0005706272544024957, 'x1_One Eye'),\n",
       " (0.0004433273014013525, 'x1_Red Eyes'),\n",
       " (0.0004313111199778212, 'x1_Orange Eyes'),\n",
       " (0.0003713277992154283, 'x2_Strawberry Blond Hair'),\n",
       " (0.00035907144409808055, 'x2_Reddish Blond Hair'),\n",
       " (0.0003252229897332439, 'x3_Female Characters'),\n",
       " (0.0002787789064346793, 'x1_Multiple Eyes'),\n",
       " (0.00026918078188681093, 'x1_Silver Eyes'),\n",
       " (0.00026126759488818556, 'x2_Grey Hair'),\n",
       " (0.0001510099162860873, 'x1_Amber Eyes'),\n",
       " (7.052672777500535e-05, 'x2_Brown Hair'),\n",
       " (4.9170981098945905e-05, 'x2_Light Brown Hair'),\n",
       " (0.0, 'x2_Red Hair'),\n",
       " (0.0, 'x2_Orange Hair'),\n",
       " (0.0, 'x2_Dyed Hair'),\n",
       " (0.0, 'x2_Blue Hair'),\n",
       " (0.0, 'x1_White Eyes'),\n",
       " (0.0, 'x1_Variable Eyes'),\n",
       " (0.0, 'x1_Hazel Eyes'),\n",
       " (0.0, 'x1_Brown Eyes'),\n",
       " (0.0, 'x0_Secret Identity')]"
      ]
     },
     "execution_count": 29,
     "metadata": {},
     "output_type": "execute_result"
    }
   ],
   "source": [
    "# see feature importance\n",
    "feature_importances = grid_search.best_estimator_.feature_importances_\n",
    "cat_encoder = full_pipeline.named_transformers_['cat']\n",
    "cat_one_hot_attribs = []\n",
    "cat_one_hot_attribs = list(cat_encoder.steps[-1][1].get_feature_names_out())\n",
    "attributes = num_attributes + dt_attributes + cat_one_hot_attribs\n",
    "sorted(zip(feature_importances, attributes), reverse=True)"
   ]
  },
  {
   "cell_type": "markdown",
   "id": "f16a2c95",
   "metadata": {},
   "source": [
    "## Apply To Test set"
   ]
  },
  {
   "cell_type": "code",
   "execution_count": 37,
   "id": "81f6fe5d",
   "metadata": {},
   "outputs": [
    {
     "data": {
      "text/plain": [
       "0.5830100853374709"
      ]
     },
     "execution_count": 37,
     "metadata": {},
     "output_type": "execute_result"
    }
   ],
   "source": [
    "final_model = grid_search.best_estimator_\n",
    "x_test = marvel_test.drop('ALIGN', axis=1)\n",
    "y_test = marvel_test['ALIGN'].copy()\n",
    "\n",
    "x_test_prep = full_pipeline.transform(x_test)\n",
    "\n",
    "final_preds = final_model.predict(x_test_prep)\n",
    "\n",
    "from sklearn.metrics import accuracy_score\n",
    "accuracy_score(y_test, final_preds)\n",
    "# pretty low accuracy, let's check the confusion matrix"
   ]
  },
  {
   "cell_type": "code",
   "execution_count": 43,
   "id": "1c8bbe4c",
   "metadata": {},
   "outputs": [
    {
     "data": {
      "text/plain": [
       "array([[1082,  195,   13],\n",
       "       [ 449,  413,   11],\n",
       "       [ 248,  159,    8]])"
      ]
     },
     "execution_count": 43,
     "metadata": {},
     "output_type": "execute_result"
    }
   ],
   "source": [
    "confusion_matrix(y_test, final_preds)"
   ]
  }
 ],
 "metadata": {
  "kernelspec": {
   "display_name": "Python 3 (ipykernel)",
   "language": "python",
   "name": "python3"
  },
  "language_info": {
   "codemirror_mode": {
    "name": "ipython",
    "version": 3
   },
   "file_extension": ".py",
   "mimetype": "text/x-python",
   "name": "python",
   "nbconvert_exporter": "python",
   "pygments_lexer": "ipython3",
   "version": "3.9.10"
  },
  "varInspector": {
   "cols": {
    "lenName": 16,
    "lenType": 16,
    "lenVar": 40
   },
   "kernels_config": {
    "python": {
     "delete_cmd_postfix": "",
     "delete_cmd_prefix": "del ",
     "library": "var_list.py",
     "varRefreshCmd": "print(var_dic_list())"
    },
    "r": {
     "delete_cmd_postfix": ") ",
     "delete_cmd_prefix": "rm(",
     "library": "var_list.r",
     "varRefreshCmd": "cat(var_dic_list()) "
    }
   },
   "types_to_exclude": [
    "module",
    "function",
    "builtin_function_or_method",
    "instance",
    "_Feature"
   ],
   "window_display": false
  }
 },
 "nbformat": 4,
 "nbformat_minor": 5
}
